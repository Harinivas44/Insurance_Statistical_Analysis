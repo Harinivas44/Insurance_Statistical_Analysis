{
 "cells": [
  {
   "cell_type": "markdown",
   "id": "77351e75",
   "metadata": {},
   "source": [
    "# Statistical Analysis on Insurance Data."
   ]
  },
  {
   "cell_type": "code",
   "execution_count": 1,
   "id": "b37bf734",
   "metadata": {},
   "outputs": [],
   "source": [
    "import pandas as pd\n",
    "import numpy as np\n",
    "import matplotlib.pyplot as plt\n",
    "%matplotlib inline\n",
    "import seaborn as sns\n",
    "import scipy.stats as stats"
   ]
  },
  {
   "cell_type": "code",
   "execution_count": 2,
   "id": "39f4900b",
   "metadata": {},
   "outputs": [
    {
     "data": {
      "text/html": [
       "<div>\n",
       "<style scoped>\n",
       "    .dataframe tbody tr th:only-of-type {\n",
       "        vertical-align: middle;\n",
       "    }\n",
       "\n",
       "    .dataframe tbody tr th {\n",
       "        vertical-align: top;\n",
       "    }\n",
       "\n",
       "    .dataframe thead th {\n",
       "        text-align: right;\n",
       "    }\n",
       "</style>\n",
       "<table border=\"1\" class=\"dataframe\">\n",
       "  <thead>\n",
       "    <tr style=\"text-align: right;\">\n",
       "      <th></th>\n",
       "      <th>age</th>\n",
       "      <th>sex</th>\n",
       "      <th>bmi</th>\n",
       "      <th>children</th>\n",
       "      <th>smoker</th>\n",
       "      <th>region</th>\n",
       "      <th>charges</th>\n",
       "    </tr>\n",
       "  </thead>\n",
       "  <tbody>\n",
       "    <tr>\n",
       "      <th>0</th>\n",
       "      <td>19</td>\n",
       "      <td>female</td>\n",
       "      <td>27.900</td>\n",
       "      <td>0</td>\n",
       "      <td>yes</td>\n",
       "      <td>southwest</td>\n",
       "      <td>16884.92400</td>\n",
       "    </tr>\n",
       "    <tr>\n",
       "      <th>1</th>\n",
       "      <td>18</td>\n",
       "      <td>male</td>\n",
       "      <td>33.770</td>\n",
       "      <td>1</td>\n",
       "      <td>no</td>\n",
       "      <td>southeast</td>\n",
       "      <td>1725.55230</td>\n",
       "    </tr>\n",
       "    <tr>\n",
       "      <th>2</th>\n",
       "      <td>28</td>\n",
       "      <td>male</td>\n",
       "      <td>33.000</td>\n",
       "      <td>3</td>\n",
       "      <td>no</td>\n",
       "      <td>southeast</td>\n",
       "      <td>4449.46200</td>\n",
       "    </tr>\n",
       "    <tr>\n",
       "      <th>3</th>\n",
       "      <td>33</td>\n",
       "      <td>male</td>\n",
       "      <td>22.705</td>\n",
       "      <td>0</td>\n",
       "      <td>no</td>\n",
       "      <td>northwest</td>\n",
       "      <td>21984.47061</td>\n",
       "    </tr>\n",
       "    <tr>\n",
       "      <th>4</th>\n",
       "      <td>32</td>\n",
       "      <td>male</td>\n",
       "      <td>28.880</td>\n",
       "      <td>0</td>\n",
       "      <td>no</td>\n",
       "      <td>northwest</td>\n",
       "      <td>3866.85520</td>\n",
       "    </tr>\n",
       "  </tbody>\n",
       "</table>\n",
       "</div>"
      ],
      "text/plain": [
       "   age     sex     bmi  children smoker     region      charges\n",
       "0   19  female  27.900         0    yes  southwest  16884.92400\n",
       "1   18    male  33.770         1     no  southeast   1725.55230\n",
       "2   28    male  33.000         3     no  southeast   4449.46200\n",
       "3   33    male  22.705         0     no  northwest  21984.47061\n",
       "4   32    male  28.880         0     no  northwest   3866.85520"
      ]
     },
     "execution_count": 2,
     "metadata": {},
     "output_type": "execute_result"
    }
   ],
   "source": [
    "df=pd.read_csv('insurance.csv')\n",
    "df.head()"
   ]
  },
  {
   "cell_type": "code",
   "execution_count": 140,
   "id": "a0838bfd",
   "metadata": {},
   "outputs": [
    {
     "data": {
      "text/plain": [
       "(1338, 7)"
      ]
     },
     "execution_count": 140,
     "metadata": {},
     "output_type": "execute_result"
    }
   ],
   "source": [
    "df.shape"
   ]
  },
  {
   "cell_type": "code",
   "execution_count": 141,
   "id": "40204cc2",
   "metadata": {},
   "outputs": [
    {
     "data": {
      "text/plain": [
       "age           int64\n",
       "sex          object\n",
       "bmi         float64\n",
       "children      int64\n",
       "smoker       object\n",
       "region       object\n",
       "charges     float64\n",
       "dtype: object"
      ]
     },
     "execution_count": 141,
     "metadata": {},
     "output_type": "execute_result"
    }
   ],
   "source": [
    "df.dtypes"
   ]
  },
  {
   "cell_type": "code",
   "execution_count": 142,
   "id": "7c7c4daa",
   "metadata": {},
   "outputs": [
    {
     "data": {
      "text/plain": [
       "age         0\n",
       "sex         0\n",
       "bmi         0\n",
       "children    0\n",
       "smoker      0\n",
       "region      0\n",
       "charges     0\n",
       "dtype: int64"
      ]
     },
     "execution_count": 142,
     "metadata": {},
     "output_type": "execute_result"
    }
   ],
   "source": [
    "df.isnull().sum()"
   ]
  },
  {
   "cell_type": "code",
   "execution_count": 143,
   "id": "9f481f84",
   "metadata": {},
   "outputs": [
    {
     "data": {
      "text/html": [
       "<div>\n",
       "<style scoped>\n",
       "    .dataframe tbody tr th:only-of-type {\n",
       "        vertical-align: middle;\n",
       "    }\n",
       "\n",
       "    .dataframe tbody tr th {\n",
       "        vertical-align: top;\n",
       "    }\n",
       "\n",
       "    .dataframe thead th {\n",
       "        text-align: right;\n",
       "    }\n",
       "</style>\n",
       "<table border=\"1\" class=\"dataframe\">\n",
       "  <thead>\n",
       "    <tr style=\"text-align: right;\">\n",
       "      <th></th>\n",
       "      <th>age</th>\n",
       "      <th>bmi</th>\n",
       "      <th>children</th>\n",
       "      <th>charges</th>\n",
       "    </tr>\n",
       "  </thead>\n",
       "  <tbody>\n",
       "    <tr>\n",
       "      <th>count</th>\n",
       "      <td>1338</td>\n",
       "      <td>1338</td>\n",
       "      <td>1338</td>\n",
       "      <td>1338</td>\n",
       "    </tr>\n",
       "    <tr>\n",
       "      <th>mean</th>\n",
       "      <td>39</td>\n",
       "      <td>30</td>\n",
       "      <td>1</td>\n",
       "      <td>13270</td>\n",
       "    </tr>\n",
       "    <tr>\n",
       "      <th>std</th>\n",
       "      <td>14</td>\n",
       "      <td>6</td>\n",
       "      <td>1</td>\n",
       "      <td>12110</td>\n",
       "    </tr>\n",
       "    <tr>\n",
       "      <th>min</th>\n",
       "      <td>18</td>\n",
       "      <td>15</td>\n",
       "      <td>0</td>\n",
       "      <td>1121</td>\n",
       "    </tr>\n",
       "    <tr>\n",
       "      <th>25%</th>\n",
       "      <td>27</td>\n",
       "      <td>26</td>\n",
       "      <td>0</td>\n",
       "      <td>4740</td>\n",
       "    </tr>\n",
       "    <tr>\n",
       "      <th>50%</th>\n",
       "      <td>39</td>\n",
       "      <td>30</td>\n",
       "      <td>1</td>\n",
       "      <td>9382</td>\n",
       "    </tr>\n",
       "    <tr>\n",
       "      <th>75%</th>\n",
       "      <td>51</td>\n",
       "      <td>34</td>\n",
       "      <td>2</td>\n",
       "      <td>16639</td>\n",
       "    </tr>\n",
       "    <tr>\n",
       "      <th>max</th>\n",
       "      <td>64</td>\n",
       "      <td>53</td>\n",
       "      <td>5</td>\n",
       "      <td>63770</td>\n",
       "    </tr>\n",
       "  </tbody>\n",
       "</table>\n",
       "</div>"
      ],
      "text/plain": [
       "        age   bmi  children  charges\n",
       "count  1338  1338      1338     1338\n",
       "mean     39    30         1    13270\n",
       "std      14     6         1    12110\n",
       "min      18    15         0     1121\n",
       "25%      27    26         0     4740\n",
       "50%      39    30         1     9382\n",
       "75%      51    34         2    16639\n",
       "max      64    53         5    63770"
      ]
     },
     "execution_count": 143,
     "metadata": {},
     "output_type": "execute_result"
    }
   ],
   "source": [
    "df.describe().astype(int)"
   ]
  },
  {
   "cell_type": "markdown",
   "id": "af26c433",
   "metadata": {},
   "source": [
    "# Distribution of ‘bmi’, ‘age’ and ‘charges’ columns."
   ]
  },
  {
   "cell_type": "code",
   "execution_count": 144,
   "id": "517764af",
   "metadata": {},
   "outputs": [
    {
     "data": {
      "text/plain": [
       "Text(0.5, 1.0, 'Charges Distribution')"
      ]
     },
     "execution_count": 144,
     "metadata": {},
     "output_type": "execute_result"
    },
    {
     "data": {
      "image/png": "[encoded data removed]",
      "text/plain": [
       "<Figure size 1440x1080 with 3 Axes>"
      ]
     },
     "metadata": {
      "needs_background": "light"
     },
     "output_type": "display_data"
    }
   ],
   "source": [
    "plt.figure(figsize= (20,15))\n",
    "plt.subplot(3,3,1)\n",
    "plt.hist(df['bmi'])\n",
    "plt.xlabel('bmi')\n",
    "plt.ylabel('Count')\n",
    "plt.title('BMI Distribution')\n",
    "plt.subplot(3,3,2)\n",
    "plt.hist(df['age'],color='orange')\n",
    "plt.xlabel('Age')\n",
    "plt.ylabel('Count')\n",
    "plt.title('Age Distribution')\n",
    "plt.subplot(3,3,3)\n",
    "plt.hist(df['charges'],color='green')\n",
    "plt.xlabel('charges')\n",
    "plt.ylabel('Count')\n",
    "plt.title('Charges Distribution')\n"
   ]
  },
  {
   "cell_type": "code",
   "execution_count": 145,
   "id": "e179f1c5",
   "metadata": {},
   "outputs": [
    {
     "data": {
      "text/html": [
       "<div>\n",
       "<style scoped>\n",
       "    .dataframe tbody tr th:only-of-type {\n",
       "        vertical-align: middle;\n",
       "    }\n",
       "\n",
       "    .dataframe tbody tr th {\n",
       "        vertical-align: top;\n",
       "    }\n",
       "\n",
       "    .dataframe thead th {\n",
       "        text-align: right;\n",
       "    }\n",
       "</style>\n",
       "<table border=\"1\" class=\"dataframe\">\n",
       "  <thead>\n",
       "    <tr style=\"text-align: right;\">\n",
       "      <th></th>\n",
       "      <th>Skewness</th>\n",
       "    </tr>\n",
       "  </thead>\n",
       "  <tbody>\n",
       "    <tr>\n",
       "      <th>BMI</th>\n",
       "      <td>0.283729</td>\n",
       "    </tr>\n",
       "    <tr>\n",
       "      <th>Age</th>\n",
       "      <td>0.055610</td>\n",
       "    </tr>\n",
       "    <tr>\n",
       "      <th>Charges</th>\n",
       "      <td>1.514180</td>\n",
       "    </tr>\n",
       "  </tbody>\n",
       "</table>\n",
       "</div>"
      ],
      "text/plain": [
       "         Skewness\n",
       "BMI      0.283729\n",
       "Age      0.055610\n",
       "Charges  1.514180"
      ]
     },
     "execution_count": 145,
     "metadata": {},
     "output_type": "execute_result"
    }
   ],
   "source": [
    "pd.DataFrame({'Skewness':[stats.skew(df['bmi']),stats.skew(df['age']),stats.skew(df['charges'])]},index=['BMI','Age','Charges'])"
   ]
  },
  {
   "cell_type": "markdown",
   "id": "5f7f32f3",
   "metadata": {},
   "source": [
    "#### 1.Where BMI attribute data points are normally distributed(It more like a normal distribution)\n",
    "#### 2.Where Age Attribute data points are uniformly distributed and but some skewness is there.\n",
    "#### 3.Where Charges Attribute data points are strongly we can tell that right skewd or positve skewed."
   ]
  },
  {
   "cell_type": "markdown",
   "id": "789f42eb",
   "metadata": {},
   "source": [
    "# Checking the presence of outliers in ‘bmi’, ‘age’ and ‘charges columns"
   ]
  },
  {
   "cell_type": "code",
   "execution_count": 146,
   "id": "c5e98f2d",
   "metadata": {},
   "outputs": [
    {
     "data": {
      "image/png": "[encoded data removed]",
      "text/plain": [
       "<Figure size 1440x1080 with 3 Axes>"
      ]
     },
     "metadata": {
      "needs_background": "light"
     },
     "output_type": "display_data"
    }
   ],
   "source": [
    "\n",
    "plt.figure(figsize= (20,15))\n",
    "plt.subplot(3,1,1)\n",
    "sns.boxplot(x=df['bmi'])\n",
    "\n",
    "\n",
    "plt.subplot(3,1,2)\n",
    "sns.boxplot(x=df['age'])\n",
    "\n",
    "plt.subplot(3,1,3)\n",
    "sns.boxplot(x=df['charges'])\n",
    "plt.show()"
   ]
  },
  {
   "cell_type": "markdown",
   "id": "b2257c3c",
   "metadata": {},
   "source": [
    "#### 1.Where in BMI attribute some outliers are there or extereme values are there.\n",
    "#### 2.Where in Age Attribute there is no outliers .\n",
    "#### 3.Where in Charges Attribute more outliers are there ."
   ]
  },
  {
   "cell_type": "markdown",
   "id": "16069d5c",
   "metadata": {},
   "source": [
    "# Distribution of categorical columns"
   ]
  },
  {
   "cell_type": "code",
   "execution_count": 147,
   "id": "4699efed",
   "metadata": {},
   "outputs": [
    {
     "data": {
      "image/png": "[encoded data removed]",
      "text/plain": [
       "<Figure size 1440x1800 with 4 Axes>"
      ]
     },
     "metadata": {
      "needs_background": "light"
     },
     "output_type": "display_data"
    }
   ],
   "source": [
    "plt.figure(figsize= (20,25))\n",
    "plt.subplot(4,1,1)\n",
    "sns.barplot(x=df['sex'].value_counts().index,y=df['sex'].value_counts().values)\n",
    "\n",
    "plt.subplot(4,1,2)\n",
    "sns.barplot(x=df['children'].value_counts().index,y=df['children'].value_counts().values)\n",
    "\n",
    "plt.subplot(4,1,3)\n",
    "sns.barplot(x=df['smoker'].value_counts().index,y=df['smoker'].value_counts().values)\n",
    "\n",
    "plt.subplot(4,1,4)\n",
    "sns.barplot(x=df['region'].value_counts().index,y=df['region'].value_counts().values)\n",
    "plt.show()"
   ]
  },
  {
   "cell_type": "markdown",
   "id": "8f5f5ce1",
   "metadata": {},
   "source": [
    "# Finding Correlations between all columns in the dataframe."
   ]
  },
  {
   "cell_type": "markdown",
   "id": "fc8caca3",
   "metadata": {},
   "source": [
    "### Note : Categorical variables or variables with non-numeric values cannot be directly used to compute correlation coefficients. In such cases, you would need to transform the categorical variables into numerical representations or use other statistical techniques suitable for analyzing categorical data."
   ]
  },
  {
   "cell_type": "code",
   "execution_count": 151,
   "id": "435ffbb0",
   "metadata": {},
   "outputs": [],
   "source": [
    "temp_df=df.copy()"
   ]
  },
  {
   "cell_type": "code",
   "execution_count": 152,
   "id": "13ed935e",
   "metadata": {},
   "outputs": [],
   "source": [
    "region={'southwest':0, 'southeast':1,'northwest':2,'northeast':3}"
   ]
  },
  {
   "cell_type": "code",
   "execution_count": 153,
   "id": "40596c22",
   "metadata": {},
   "outputs": [],
   "source": [
    "temp_df['sex']=temp_df['sex'].apply(lambda x :1 if x=='male' else 0 )\n",
    "temp_df['region']=temp_df['region'].map(region)\n",
    "temp_df['smoker']=temp_df['smoker'].apply(lambda x :1 if x=='yes' else 0)"
   ]
  },
  {
   "cell_type": "code",
   "execution_count": 154,
   "id": "5343bb6f",
   "metadata": {},
   "outputs": [
    {
     "data": {
      "text/html": [
       "<div>\n",
       "<style scoped>\n",
       "    .dataframe tbody tr th:only-of-type {\n",
       "        vertical-align: middle;\n",
       "    }\n",
       "\n",
       "    .dataframe tbody tr th {\n",
       "        vertical-align: top;\n",
       "    }\n",
       "\n",
       "    .dataframe thead th {\n",
       "        text-align: right;\n",
       "    }\n",
       "</style>\n",
       "<table border=\"1\" class=\"dataframe\">\n",
       "  <thead>\n",
       "    <tr style=\"text-align: right;\">\n",
       "      <th></th>\n",
       "      <th>age</th>\n",
       "      <th>sex</th>\n",
       "      <th>bmi</th>\n",
       "      <th>children</th>\n",
       "      <th>smoker</th>\n",
       "      <th>region</th>\n",
       "      <th>charges</th>\n",
       "    </tr>\n",
       "  </thead>\n",
       "  <tbody>\n",
       "    <tr>\n",
       "      <th>0</th>\n",
       "      <td>19</td>\n",
       "      <td>0</td>\n",
       "      <td>27.900</td>\n",
       "      <td>0</td>\n",
       "      <td>1</td>\n",
       "      <td>0</td>\n",
       "      <td>16884.92400</td>\n",
       "    </tr>\n",
       "    <tr>\n",
       "      <th>1</th>\n",
       "      <td>18</td>\n",
       "      <td>1</td>\n",
       "      <td>33.770</td>\n",
       "      <td>1</td>\n",
       "      <td>0</td>\n",
       "      <td>1</td>\n",
       "      <td>1725.55230</td>\n",
       "    </tr>\n",
       "    <tr>\n",
       "      <th>2</th>\n",
       "      <td>28</td>\n",
       "      <td>1</td>\n",
       "      <td>33.000</td>\n",
       "      <td>3</td>\n",
       "      <td>0</td>\n",
       "      <td>1</td>\n",
       "      <td>4449.46200</td>\n",
       "    </tr>\n",
       "    <tr>\n",
       "      <th>3</th>\n",
       "      <td>33</td>\n",
       "      <td>1</td>\n",
       "      <td>22.705</td>\n",
       "      <td>0</td>\n",
       "      <td>0</td>\n",
       "      <td>2</td>\n",
       "      <td>21984.47061</td>\n",
       "    </tr>\n",
       "    <tr>\n",
       "      <th>4</th>\n",
       "      <td>32</td>\n",
       "      <td>1</td>\n",
       "      <td>28.880</td>\n",
       "      <td>0</td>\n",
       "      <td>0</td>\n",
       "      <td>2</td>\n",
       "      <td>3866.85520</td>\n",
       "    </tr>\n",
       "  </tbody>\n",
       "</table>\n",
       "</div>"
      ],
      "text/plain": [
       "   age  sex     bmi  children  smoker  region      charges\n",
       "0   19    0  27.900         0       1       0  16884.92400\n",
       "1   18    1  33.770         1       0       1   1725.55230\n",
       "2   28    1  33.000         3       0       1   4449.46200\n",
       "3   33    1  22.705         0       0       2  21984.47061\n",
       "4   32    1  28.880         0       0       2   3866.85520"
      ]
     },
     "execution_count": 154,
     "metadata": {},
     "output_type": "execute_result"
    }
   ],
   "source": [
    "temp_df.head()"
   ]
  },
  {
   "cell_type": "code",
   "execution_count": 159,
   "id": "491d4f82",
   "metadata": {},
   "outputs": [
    {
     "name": "stdout",
     "output_type": "stream",
     "text": [
      "[0 1] [1 0] [0 1 2 3]\n"
     ]
    }
   ],
   "source": [
    "print(temp_df['sex'].unique(),temp_df['smoker'].unique(),temp_df['region'].unique())"
   ]
  },
  {
   "cell_type": "code",
   "execution_count": 161,
   "id": "3deb46ae",
   "metadata": {},
   "outputs": [
    {
     "data": {
      "text/html": [
       "<div>\n",
       "<style scoped>\n",
       "    .dataframe tbody tr th:only-of-type {\n",
       "        vertical-align: middle;\n",
       "    }\n",
       "\n",
       "    .dataframe tbody tr th {\n",
       "        vertical-align: top;\n",
       "    }\n",
       "\n",
       "    .dataframe thead th {\n",
       "        text-align: right;\n",
       "    }\n",
       "</style>\n",
       "<table border=\"1\" class=\"dataframe\">\n",
       "  <thead>\n",
       "    <tr style=\"text-align: right;\">\n",
       "      <th></th>\n",
       "      <th>age</th>\n",
       "      <th>sex</th>\n",
       "      <th>bmi</th>\n",
       "      <th>children</th>\n",
       "      <th>smoker</th>\n",
       "      <th>region</th>\n",
       "      <th>charges</th>\n",
       "    </tr>\n",
       "  </thead>\n",
       "  <tbody>\n",
       "    <tr>\n",
       "      <th>age</th>\n",
       "      <td>1.000000</td>\n",
       "      <td>-0.020856</td>\n",
       "      <td>0.109272</td>\n",
       "      <td>0.042469</td>\n",
       "      <td>-0.025019</td>\n",
       "      <td>-0.002127</td>\n",
       "      <td>0.299008</td>\n",
       "    </tr>\n",
       "    <tr>\n",
       "      <th>sex</th>\n",
       "      <td>-0.020856</td>\n",
       "      <td>1.000000</td>\n",
       "      <td>0.046371</td>\n",
       "      <td>0.017163</td>\n",
       "      <td>0.076185</td>\n",
       "      <td>-0.004588</td>\n",
       "      <td>0.057292</td>\n",
       "    </tr>\n",
       "    <tr>\n",
       "      <th>bmi</th>\n",
       "      <td>0.109272</td>\n",
       "      <td>0.046371</td>\n",
       "      <td>1.000000</td>\n",
       "      <td>0.012759</td>\n",
       "      <td>0.003750</td>\n",
       "      <td>-0.157566</td>\n",
       "      <td>0.198341</td>\n",
       "    </tr>\n",
       "    <tr>\n",
       "      <th>children</th>\n",
       "      <td>0.042469</td>\n",
       "      <td>0.017163</td>\n",
       "      <td>0.012759</td>\n",
       "      <td>1.000000</td>\n",
       "      <td>0.007673</td>\n",
       "      <td>-0.016569</td>\n",
       "      <td>0.067998</td>\n",
       "    </tr>\n",
       "    <tr>\n",
       "      <th>smoker</th>\n",
       "      <td>-0.025019</td>\n",
       "      <td>0.076185</td>\n",
       "      <td>0.003750</td>\n",
       "      <td>0.007673</td>\n",
       "      <td>1.000000</td>\n",
       "      <td>0.002181</td>\n",
       "      <td>0.787251</td>\n",
       "    </tr>\n",
       "    <tr>\n",
       "      <th>region</th>\n",
       "      <td>-0.002127</td>\n",
       "      <td>-0.004588</td>\n",
       "      <td>-0.157566</td>\n",
       "      <td>-0.016569</td>\n",
       "      <td>0.002181</td>\n",
       "      <td>1.000000</td>\n",
       "      <td>0.006208</td>\n",
       "    </tr>\n",
       "    <tr>\n",
       "      <th>charges</th>\n",
       "      <td>0.299008</td>\n",
       "      <td>0.057292</td>\n",
       "      <td>0.198341</td>\n",
       "      <td>0.067998</td>\n",
       "      <td>0.787251</td>\n",
       "      <td>0.006208</td>\n",
       "      <td>1.000000</td>\n",
       "    </tr>\n",
       "  </tbody>\n",
       "</table>\n",
       "</div>"
      ],
      "text/plain": [
       "               age       sex       bmi  children    smoker    region   charges\n",
       "age       1.000000 -0.020856  0.109272  0.042469 -0.025019 -0.002127  0.299008\n",
       "sex      -0.020856  1.000000  0.046371  0.017163  0.076185 -0.004588  0.057292\n",
       "bmi       0.109272  0.046371  1.000000  0.012759  0.003750 -0.157566  0.198341\n",
       "children  0.042469  0.017163  0.012759  1.000000  0.007673 -0.016569  0.067998\n",
       "smoker   -0.025019  0.076185  0.003750  0.007673  1.000000  0.002181  0.787251\n",
       "region   -0.002127 -0.004588 -0.157566 -0.016569  0.002181  1.000000  0.006208\n",
       "charges   0.299008  0.057292  0.198341  0.067998  0.787251  0.006208  1.000000"
      ]
     },
     "execution_count": 161,
     "metadata": {},
     "output_type": "execute_result"
    }
   ],
   "source": [
    "corr_matrix=temp_df.corr()\n",
    "corr_matrix"
   ]
  },
  {
   "cell_type": "code",
   "execution_count": 254,
   "id": "84d73b58",
   "metadata": {},
   "outputs": [
    {
     "data": {
      "text/plain": [
       "<AxesSubplot:>"
      ]
     },
     "execution_count": 254,
     "metadata": {},
     "output_type": "execute_result"
    },
    {
     "data": {
      "image/png": "[encoded data removed]",
      "text/plain": [
       "<Figure size 432x288 with 2 Axes>"
      ]
     },
     "metadata": {
      "needs_background": "light"
     },
     "output_type": "display_data"
    }
   ],
   "source": [
    "sns.heatmap(corr_matrix,annot=True)"
   ]
  },
  {
   "cell_type": "markdown",
   "id": "d0a5d152",
   "metadata": {},
   "source": [
    "#### Overall, the strongest correlation is observed between smoking status and charges, indicating that smoking is a significant factor influencing insurance costs. Age and BMI also show some positive correlation with charges, while sex and region have relatively weak correlations. The number of children has a slight positive correlation but is not as influential as other factors."
   ]
  },
  {
   "cell_type": "markdown",
   "id": "027b6837",
   "metadata": {},
   "source": [
    "# Hypothesis Testing"
   ]
  },
  {
   "cell_type": "markdown",
   "id": "93b4d295",
   "metadata": {},
   "source": [
    "### Do charges of people who smoke differ significantly from the people who don't?"
   ]
  },
  {
   "cell_type": "code",
   "execution_count": 166,
   "id": "039a4f31",
   "metadata": {},
   "outputs": [
    {
     "data": {
      "text/plain": [
       "smoker\n",
       "no     1064\n",
       "yes     274\n",
       "Name: count, dtype: int64"
      ]
     },
     "execution_count": 166,
     "metadata": {},
     "output_type": "execute_result"
    }
   ],
   "source": [
    "df['smoker'].value_counts()"
   ]
  },
  {
   "cell_type": "code",
   "execution_count": 168,
   "id": "3ab9c36d",
   "metadata": {},
   "outputs": [
    {
     "data": {
      "text/plain": [
       "<AxesSubplot:xlabel='age', ylabel='charges'>"
      ]
     },
     "execution_count": 168,
     "metadata": {},
     "output_type": "execute_result"
    },
    {
     "data": {
      "image/png": "[encoded data removed]",
      "text/plain": [
       "<Figure size 432x288 with 1 Axes>"
      ]
     },
     "metadata": {
      "needs_background": "light"
     },
     "output_type": "display_data"
    }
   ],
   "source": [
    "sns.scatterplot(x=df['age'],y=df['charges'],hue=df['smoker'],palette= ['red','green'])"
   ]
  },
  {
   "cell_type": "code",
   "execution_count": 172,
   "id": "6ef49962",
   "metadata": {},
   "outputs": [
    {
     "name": "stdout",
     "output_type": "stream",
     "text": [
      "Charges of non-smoker and smoker are not same becaz the (p_value)8.271435842179102e-283<=0.05\n"
     ]
    }
   ],
   "source": [
    "Ho='Charges of non-smoker and smoker are same' # \n",
    "Ha='Charges of non-smoker and smoker are not same'\n",
    "x=np.array(df[df['smoker']=='yes']['charges'])\n",
    "y=np.array(df[df['smoker']=='no']['charges'])\n",
    "t_value,p_value=stats.ttest_ind(x,y)\n",
    "if p_value<=0.05:\n",
    "    print('{} becaz the (p_value){}<=0.05'.format(Ha,p_value))\n",
    "else:\n",
    "    print('{} becaz the (p_value){}>0.05'.format(Ho,p_value))"
   ]
  },
  {
   "cell_type": "markdown",
   "id": "dd87b6ab",
   "metadata": {},
   "source": [
    "### Does bmi of males differ significantly from that of females?"
   ]
  },
  {
   "cell_type": "code",
   "execution_count": 173,
   "id": "4ba6a538",
   "metadata": {},
   "outputs": [
    {
     "data": {
      "text/plain": [
       "sex\n",
       "male      676\n",
       "female    662\n",
       "Name: count, dtype: int64"
      ]
     },
     "execution_count": 173,
     "metadata": {},
     "output_type": "execute_result"
    }
   ],
   "source": [
    "df['sex'].value_counts()"
   ]
  },
  {
   "cell_type": "code",
   "execution_count": 174,
   "id": "631660fb",
   "metadata": {},
   "outputs": [
    {
     "data": {
      "text/plain": [
       "<AxesSubplot:xlabel='sex', ylabel='bmi'>"
      ]
     },
     "execution_count": 174,
     "metadata": {},
     "output_type": "execute_result"
    },
    {
     "data": {
      "image/png": "[encoded data removed]",
      "text/plain": [
       "<Figure size 432x288 with 1 Axes>"
      ]
     },
     "metadata": {
      "needs_background": "light"
     },
     "output_type": "display_data"
    }
   ],
   "source": [
    "sns.scatterplot(x=df['sex'],y=df['bmi'])"
   ]
  },
  {
   "cell_type": "markdown",
   "id": "a0871ef5",
   "metadata": {},
   "source": [
    "#### Null Hypothesis : Tells that there is no significant relationship between Two variables(Just assumptions)\n",
    "#### Alternate Hypothesis: Opposite of Null Hypothesis , Tells that There is a relationship between two variables.(Just assumptions)\n",
    "#### p_value <= 0.5 null hypothesis is rejected otherwise alternate hypothesis is rejected."
   ]
  },
  {
   "cell_type": "code",
   "execution_count": 255,
   "id": "605a1999",
   "metadata": {},
   "outputs": [
    {
     "name": "stdout",
     "output_type": "stream",
     "text": [
      "Gender has no effect on bmi becaz the (p_value)0.08997637178984934>0.05\n"
     ]
    }
   ],
   "source": [
    "Ho='Gender has no effect on bmi' # Stating the Null Hypothesis\n",
    "Ha='Gender has an effect on bmi' # Stating the Alternate Hypothesis\n",
    "x=np.array(df[df['sex']=='male']['bmi'])\n",
    "y=np.array(df[df['sex']=='female']['bmi'])\n",
    "t_value,p_value=stats.ttest_ind(x,y) # ttest is to identify the difference between two numerical variables.\n",
    "if p_value<=0.05: \n",
    "    print('{} becaz the (p_value){}<=0.05'.format(Ha,p_value))\n",
    "else:\n",
    "    print('{} becaz the (p_value){}>0.05'.format(Ho,p_value))"
   ]
  },
  {
   "cell_type": "markdown",
   "id": "5a6635f0",
   "metadata": {},
   "source": [
    "### Is the proportion of smokers significantly different in different genders?"
   ]
  },
  {
   "cell_type": "code",
   "execution_count": 264,
   "id": "022f9ec6",
   "metadata": {},
   "outputs": [
    {
     "data": {
      "text/html": [
       "<div>\n",
       "<style scoped>\n",
       "    .dataframe tbody tr th:only-of-type {\n",
       "        vertical-align: middle;\n",
       "    }\n",
       "\n",
       "    .dataframe tbody tr th {\n",
       "        vertical-align: top;\n",
       "    }\n",
       "\n",
       "    .dataframe thead th {\n",
       "        text-align: right;\n",
       "    }\n",
       "</style>\n",
       "<table border=\"1\" class=\"dataframe\">\n",
       "  <thead>\n",
       "    <tr style=\"text-align: right;\">\n",
       "      <th>smoker</th>\n",
       "      <th>no</th>\n",
       "      <th>yes</th>\n",
       "    </tr>\n",
       "    <tr>\n",
       "      <th>sex</th>\n",
       "      <th></th>\n",
       "      <th></th>\n",
       "    </tr>\n",
       "  </thead>\n",
       "  <tbody>\n",
       "    <tr>\n",
       "      <th>female</th>\n",
       "      <td>547</td>\n",
       "      <td>115</td>\n",
       "    </tr>\n",
       "    <tr>\n",
       "      <th>male</th>\n",
       "      <td>517</td>\n",
       "      <td>159</td>\n",
       "    </tr>\n",
       "  </tbody>\n",
       "</table>\n",
       "</div>"
      ],
      "text/plain": [
       "smoker   no  yes\n",
       "sex             \n",
       "female  547  115\n",
       "male    517  159"
      ]
     },
     "execution_count": 264,
     "metadata": {},
     "output_type": "execute_result"
    }
   ],
   "source": [
    "freq_df=pd.crosstab(df['sex'],df['smoker'])\n",
    "freq_df"
   ]
  },
  {
   "cell_type": "code",
   "execution_count": 257,
   "id": "d479ae0e",
   "metadata": {},
   "outputs": [
    {
     "data": {
      "image/png": "[encoded data removed]",
      "text/plain": [
       "<Figure size 432x288 with 1 Axes>"
      ]
     },
     "metadata": {
      "needs_background": "light"
     },
     "output_type": "display_data"
    }
   ],
   "source": [
    "chances=['Female-No Smoke','Male-No Smoke','Female-Smoke','Male-Smoke']\n",
    "counts=freq_df.loc[:,'no'].tolist()+freq_df.loc[:,'yes'].tolist()\n",
    "sns.barplot(x=chances,y=counts,width=0.5)\n",
    "plt.xticks(rotation=45)\n",
    "plt.show()"
   ]
  },
  {
   "cell_type": "code",
   "execution_count": 258,
   "id": "d6b27c55",
   "metadata": {},
   "outputs": [
    {
     "name": "stdout",
     "output_type": "stream",
     "text": [
      "Gender has an effect on smoking habits becaz the (p_value)0.006548143503580696<=0.05\n"
     ]
    }
   ],
   "source": [
    "Ho = \"Gender has no effect on smoking habits\"   # Stating the Null Hypothesis\n",
    "Ha = \"Gender has an effect on smoking habits\"   # Stating the Alternate Hypothesis\n",
    "chi, p_value, dof, expected =  stats.chi2_contingency(freq_df) # chi2 test is to identify the difference between categorical\n",
    "if p_value <= 0.05:                                                                                             # variables.\n",
    "     print('{} becaz the (p_value){}<=0.05'.format(Ha,p_value))\n",
    "else:\n",
    "    print('{} becaz the (p_value){}>0.05'.format(Ho,p_value))\n",
    "    "
   ]
  },
  {
   "cell_type": "markdown",
   "id": "05bf2bf8",
   "metadata": {},
   "source": [
    "### Is the distribution of bmi across women with no children, one child and two children,etc . Are they same ?"
   ]
  },
  {
   "cell_type": "code",
   "execution_count": 259,
   "id": "6a944837",
   "metadata": {},
   "outputs": [
    {
     "data": {
      "text/plain": [
       "array([0, 1, 3, 2, 5, 4], dtype=int64)"
      ]
     },
     "execution_count": 259,
     "metadata": {},
     "output_type": "execute_result"
    }
   ],
   "source": [
    "df['children'].unique()"
   ]
  },
  {
   "cell_type": "code",
   "execution_count": 263,
   "id": "ff06c281",
   "metadata": {},
   "outputs": [
    {
     "name": "stdout",
     "output_type": "stream",
     "text": [
      "No. of children has no effect on bmi becaz the (p_value)0.918622806533995>0.05\n"
     ]
    }
   ],
   "source": [
    "Ho = \"No. of children has no effect on bmi\"   # Stating the Null Hypothesis\n",
    "Ha = \"No. of children has an effect on bmi\"   # Stating the Alternate Hypothesis\n",
    "\n",
    "female_df=df[df['sex']=='female'].copy()\n",
    "\n",
    "zero_child = female_df[female_df['children'] == 0]['bmi']\n",
    "one_child = female_df[female_df['children'] == 1]['bmi']\n",
    "two_child = female_df[female_df['children'] == 2]['bmi']\n",
    "three_child = female_df[female_df['children'] == 3]['bmi']\n",
    "four_child = female_df[female_df['children'] == 4]['bmi']\n",
    "five_child = female_df[female_df['children']== 5]['bmi']\n",
    "f_stat, p_value = stats.f_oneway(zero_child,one_child,two_child,three_child,four_child,five_child)\n",
    "if p_value <= 0.05: # oneway test or f-test is used to identify the difference between multiple numerical varaibles.\n",
    "     print('{} becaz the (p_value){}<=0.05'.format(Ha,p_value))\n",
    "else:\n",
    "    print('{} becaz the (p_value){}>0.05'.format(Ho,p_value))"
   ]
  }
 ],
 "metadata": {
  "kernelspec": {
   "display_name": "Python 3 (ipykernel)",
   "language": "python",
   "name": "python3"
  },
  "language_info": {
   "codemirror_mode": {
    "name": "ipython",
    "version": 3
   },
   "file_extension": ".py",
   "mimetype": "text/x-python",
   "name": "python",
   "nbconvert_exporter": "python",
   "pygments_lexer": "ipython3",
   "version": "3.9.5"
  }
 },
 "nbformat": 4,
 "nbformat_minor": 5
}
